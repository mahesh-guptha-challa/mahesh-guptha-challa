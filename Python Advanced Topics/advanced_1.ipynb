{
 "cells": [
  {
   "cell_type": "code",
   "execution_count": null,
   "metadata": {},
   "outputs": [
    {
     "name": "stdout",
     "output_type": "stream",
     "text": [
      "before start\n",
      "Hello\n"
     ]
    }
   ],
   "source": [
    "# basic decorators.\n",
    "def beforestart(func):\n",
    "    def wraper():\n",
    "        print(\"before start\")\n",
    "        func()\n",
    "    return wraper\n",
    "\n",
    "@beforestart\n",
    "def start():\n",
    "    print(\"Hello\")\n",
    "\n",
    "start()"
   ]
  },
  {
   "cell_type": "code",
   "execution_count": null,
   "metadata": {},
   "outputs": [
    {
     "data": {
      "text/plain": [
       "'5 is a prime number'"
      ]
     },
     "execution_count": 14,
     "metadata": {},
     "output_type": "execute_result"
    }
   ],
   "source": [
    "# decorator inner fuction with parameters and return value.\n",
    "\n",
    "def declartion(func):\n",
    "    def wrapeer(*args, **kwargs):\n",
    "        if args:\n",
    "            result = func(args[0])\n",
    "            if result:\n",
    "                return f\"{args[0]} is not a prime number\"\n",
    "            else:\n",
    "                return f\"{args[0]} is a prime number\"\n",
    "        else:\n",
    "            return \"Please enter a value.\"\n",
    "    return wrapeer\n",
    "\n",
    "\n",
    "\n",
    "@declartion\n",
    "def prime_numbers(n):\n",
    "    for i in range(2, n):\n",
    "        if n%i == 0:\n",
    "            return True\n",
    "    return False\n",
    "\n",
    "prime_numbers(5)\n"
   ]
  },
  {
   "cell_type": "code",
   "execution_count": 75,
   "metadata": {},
   "outputs": [
    {
     "name": "stdout",
     "output_type": "stream",
     "text": [
      "[False, False, False, True]\n"
     ]
    }
   ],
   "source": [
    "# how it takes the run time 1func and arguments for the decorator.\n",
    "def list_of_prime_numbers(range_of_number):\n",
    "    def additional_functional_func(func):\n",
    "        def is_prime_check(*args, **kwargs):   \n",
    "            output_list = []\n",
    "            for i in range(range_of_number):\n",
    "                func_data = func(i)\n",
    "                output_list.append(func_data)\n",
    "            return output_list\n",
    "        return is_prime_check\n",
    "    return additional_functional_func\n",
    "\n",
    "@list_of_prime_numbers(range_of_number = 4)\n",
    "def is_prime_number(n):\n",
    "    for i in range(2,n):\n",
    "        return True\n",
    "    return False\n",
    "\n",
    "print(is_prime_number(10))"
   ]
  },
  {
   "cell_type": "code",
   "execution_count": 76,
   "metadata": {},
   "outputs": [
    {
     "name": "stdout",
     "output_type": "stream",
     "text": [
      "('Mahesh',)\n"
     ]
    }
   ],
   "source": [
    "# decorator with arguments.\n",
    "def test_before(func):\n",
    "    def test_between(*args):\n",
    "        return args\n",
    "    return test_between\n",
    "\n",
    "@test_before\n",
    "def test(n):\n",
    "\n",
    "    return f\"test passed {n}\"\n",
    "\n",
    "print(test(\"Mahesh\"))"
   ]
  },
  {
   "cell_type": "code",
   "execution_count": 93,
   "metadata": {},
   "outputs": [
    {
     "ename": "ZeroDivisionError",
     "evalue": "division by zero",
     "output_type": "error",
     "traceback": [
      "\u001b[1;31m---------------------------------------------------------------------------\u001b[0m",
      "\u001b[1;31mZeroDivisionError\u001b[0m                         Traceback (most recent call last)",
      "Cell \u001b[1;32mIn[93], line 20\u001b[0m\n\u001b[0;32m     16\u001b[0m         \u001b[38;5;28;01mreturn\u001b[39;00m \u001b[38;5;28;01mFalse\u001b[39;00m\n\u001b[0;32m     19\u001b[0m \u001b[38;5;28;01mwith\u001b[39;00m FileHandling(\u001b[38;5;124m\"\u001b[39m\u001b[38;5;124mtest.txt\u001b[39m\u001b[38;5;124m\"\u001b[39m) \u001b[38;5;28;01mas\u001b[39;00m f:\n\u001b[1;32m---> 20\u001b[0m     \u001b[38;5;28mprint\u001b[39m(\u001b[38;5;241;43m2\u001b[39;49m\u001b[38;5;241;43m/\u001b[39;49m\u001b[38;5;241;43m0\u001b[39;49m)\n",
      "\u001b[1;31mZeroDivisionError\u001b[0m: division by zero"
     ]
    }
   ],
   "source": [
    "class FileHandling:\n",
    "\n",
    "    def __init__(self, file_name) -> None:\n",
    "       self.file_name = file_name \n",
    "    \n",
    "    def __enter__(self):\n",
    "        mode = 'w'\n",
    "        self.file_obj = open(self.file_name, mode)\n",
    "        return self.file_obj\n",
    "    \n",
    "    def __exit__(self, exe_type, exe_value, error_messages):\n",
    "\n",
    "        self.file_obj.close()\n",
    "\n",
    "        # returns True if it we don't need to show the raise error else False.\n",
    "        return False\n",
    "\n",
    "\n",
    "with FileHandling(\"test.txt\") as f:\n",
    "    print(2/0)\n",
    "\n",
    "\n",
    "\n"
   ]
  },
  {
   "cell_type": "code",
   "execution_count": 6,
   "metadata": {},
   "outputs": [
    {
     "ename": "StopIteration",
     "evalue": "",
     "output_type": "error",
     "traceback": [
      "\u001b[1;31m---------------------------------------------------------------------------\u001b[0m",
      "\u001b[1;31mStopIteration\u001b[0m                             Traceback (most recent call last)",
      "Cell \u001b[1;32mIn[6], line 41\u001b[0m\n\u001b[0;32m     37\u001b[0m \u001b[38;5;28;01mfor\u001b[39;00m i \u001b[38;5;129;01min\u001b[39;00m a:\n\u001b[0;32m     38\u001b[0m     \u001b[38;5;66;03m# print(i)\u001b[39;00m\n\u001b[0;32m     39\u001b[0m     \u001b[38;5;28;01mpass\u001b[39;00m\n\u001b[1;32m---> 41\u001b[0m \u001b[38;5;28mprint\u001b[39m(\u001b[38;5;28;43mnext\u001b[39;49m\u001b[43m(\u001b[49m\u001b[43ma\u001b[49m\u001b[43m)\u001b[49m)\n",
      "\u001b[1;31mStopIteration\u001b[0m: "
     ]
    },
    {
     "ename": "",
     "evalue": "",
     "output_type": "error",
     "traceback": [
      "\u001b[1;31mThe Kernel crashed while executing code in the current cell or a previous cell. \n",
      "\u001b[1;31mPlease review the code in the cell(s) to identify a possible cause of the failure. \n",
      "\u001b[1;31mClick <a href='https://aka.ms/vscodeJupyterKernelCrash'>here</a> for more info. \n",
      "\u001b[1;31mView Jupyter <a href='command:jupyter.viewOutput'>log</a> for further details."
     ]
    }
   ],
   "source": [
    "class Iteratror:\n",
    "\n",
    "    def __init__(self, var) -> None:\n",
    "        self.min = 0\n",
    "        self.max = len(var)\n",
    "        self.var = var\n",
    "    \n",
    "    def __iter__(self):\n",
    "        return self\n",
    "    \n",
    "    def __next__(self):\n",
    "        if self.min>=self.max:\n",
    "            raise StopIteration\n",
    "        value = self.var[self.min]\n",
    "        self.min += 1\n",
    "        return value\n",
    "# a = \n",
    "\n",
    "# print(a.var)\n",
    "# print(next(a))\n",
    "for i in Iteratror(\"Test\"):\n",
    "    # print(i)\n",
    "    pass\n",
    "    \n",
    "def iteration_string(var):\n",
    "\n",
    "    value_min = 0\n",
    "    value_max = len(var)\n",
    "    while value_min<value_max:\n",
    "        \n",
    "        value = var[value_min]\n",
    "        value_min+=1\n",
    "        yield value\n",
    "    return \"Iterations Stopped\"\n",
    "\n",
    "a =iteration_string(\"Mahesh Guptha Challa\")\n",
    "for i in a:\n",
    "    # print(i)\n",
    "    pass\n",
    "\n",
    "print(next(a))"
   ]
  },
  {
   "cell_type": "code",
   "execution_count": 28,
   "metadata": {},
   "outputs": [
    {
     "name": "stdout",
     "output_type": "stream",
     "text": [
      "AA\n",
      "BBBBBBBBBBBBBBBBBBBBBBBBBBBBBBBBB\n",
      "cccccccccccccccccccccccccccccccccccccccccccccccccccccccccccccccccccccccccccccccccccccccccccccccccccc\n"
     ]
    },
    {
     "data": {
      "text/plain": [
       "('', '')"
      ]
     },
     "execution_count": 28,
     "metadata": {},
     "output_type": "execute_result"
    }
   ],
   "source": [
    "a = 'A2B33c100'\n",
    "\n",
    "def main(w,d):\n",
    "            if w and d:\n",
    "                print(w*int(d))\n",
    "                w = ''\n",
    "                d = ''\n",
    "                return w,d\n",
    "\n",
    "w = ''\n",
    "d = ''\n",
    "flag = False\n",
    "for i in a:\n",
    "    if i.isdigit():\n",
    "        flag = True\n",
    "        d+=i\n",
    "    else:\n",
    "        if flag:\n",
    "            w,d = main(w,d)\n",
    "        w+=i\n",
    "main(w,d)\n",
    "\n"
   ]
  },
  {
   "cell_type": "code",
   "execution_count": 112,
   "metadata": {},
   "outputs": [
    {
     "name": "stdout",
     "output_type": "stream",
     "text": [
      "[39]\n",
      "[39, 122]\n",
      "[39, 122, 40]\n",
      "[39, 122, 40, 124]\n",
      "True\n"
     ]
    }
   ],
   "source": [
    "def main():\n",
    "    z = \"({)}\"\n",
    "    o = []\n",
    "    p = []\n",
    "    for i in z:\n",
    "        if not i.isalnum():\n",
    "            id_num = ord(i)\n",
    "            if id_num-1 in p:\n",
    "                if id_num-1 == p[-1]:\n",
    "                    # p.remove(id_num+1)\n",
    "                    p = p[:-1]\n",
    "                    continue\n",
    "                else:\n",
    "                    return False\n",
    "            else:\n",
    "                p.append(id_num-1)\n",
    "            print(p)\n",
    "            o.append(id_num)\n",
    "    return True\n",
    "                \n",
    "print(main())\n",
    "\n",
    "\n"
   ]
  },
  {
   "cell_type": "code",
   "execution_count": 8,
   "metadata": {},
   "outputs": [
    {
     "name": "stdout",
     "output_type": "stream",
     "text": [
      "Mahesh\n",
      "Mahesh Guptha\n"
     ]
    },
    {
     "data": {
      "text/plain": [
       "'Python Programming'"
      ]
     },
     "execution_count": 8,
     "metadata": {},
     "output_type": "execute_result"
    }
   ],
   "source": [
    "# string Concatenation\n",
    "\n",
    "a = \"Mahesh\"\n",
    "print(a)\n",
    "\n",
    "a += \" Guptha\"\n",
    "\n",
    "print(a)\n",
    "\n",
    "\n",
    "a = \"Python\"\n",
    "\n",
    "a = a + \" Programming\"\n",
    "\n",
    "a\n"
   ]
  },
  {
   "cell_type": "code",
   "execution_count": 9,
   "metadata": {},
   "outputs": [
    {
     "ename": "TypeError",
     "evalue": "can only concatenate str (not \"int\") to str",
     "output_type": "error",
     "traceback": [
      "\u001b[1;31m---------------------------------------------------------------------------\u001b[0m",
      "\u001b[1;31mTypeError\u001b[0m                                 Traceback (most recent call last)",
      "Cell \u001b[1;32mIn[9], line 3\u001b[0m\n\u001b[0;32m      1\u001b[0m \u001b[38;5;66;03m#  error Concatenation\u001b[39;00m\n\u001b[1;32m----> 3\u001b[0m a \u001b[38;5;241m=\u001b[39m \u001b[38;5;124;43m\"\u001b[39;49m\u001b[38;5;124;43mMahesh\u001b[39;49m\u001b[38;5;124;43m\"\u001b[39;49m\u001b[43m \u001b[49m\u001b[38;5;241;43m+\u001b[39;49m\u001b[43m \u001b[49m\u001b[38;5;124;43m\"\u001b[39;49m\u001b[38;5;124;43m \u001b[39;49m\u001b[38;5;124;43m\"\u001b[39;49m\u001b[43m \u001b[49m\u001b[38;5;241;43m+\u001b[39;49m\u001b[43m \u001b[49m\u001b[38;5;241;43m10\u001b[39;49m\n",
      "\u001b[1;31mTypeError\u001b[0m: can only concatenate str (not \"int\") to str"
     ]
    }
   ],
   "source": [
    "#  error Concatenation\n",
    "\n",
    "a = \"Mahesh\" + \" \" + 10"
   ]
  },
  {
   "cell_type": "code",
   "execution_count": 12,
   "metadata": {},
   "outputs": [
    {
     "data": {
      "text/plain": [
       "'Mahesh 10'"
      ]
     },
     "execution_count": 12,
     "metadata": {},
     "output_type": "execute_result"
    }
   ],
   "source": [
    "# convert the integer to string.\n",
    "\n",
    "a = \"Mahesh \" + str(10)\n",
    "\n",
    "a       "
   ]
  },
  {
   "cell_type": "code",
   "execution_count": 24,
   "metadata": {},
   "outputs": [
    {
     "ename": "IndexError",
     "evalue": "string index out of range",
     "output_type": "error",
     "traceback": [
      "\u001b[1;31m---------------------------------------------------------------------------\u001b[0m",
      "\u001b[1;31mIndexError\u001b[0m                                Traceback (most recent call last)",
      "Cell \u001b[1;32mIn[24], line 14\u001b[0m\n\u001b[0;32m     12\u001b[0m a[\u001b[38;5;241m0\u001b[39m] \n\u001b[0;32m     13\u001b[0m \u001b[38;5;66;03m# wrong\u001b[39;00m\n\u001b[1;32m---> 14\u001b[0m \u001b[43ma\u001b[49m\u001b[43m[\u001b[49m\u001b[38;5;241;43m1\u001b[39;49m\u001b[43m]\u001b[49m\n",
      "\u001b[1;31mIndexError\u001b[0m: string index out of range"
     ]
    }
   ],
   "source": [
    "# string repetion\n",
    "a = \"*\"\n",
    "\n",
    "a*2\n",
    "\n",
    "('#' * 2) + a + (\"$\" * 2)\n",
    "\n",
    "# lenth of the strring\n",
    "len(a)\n",
    "\n",
    "# string indexing  correct\n",
    "a[0] \n",
    "# wrong\n",
    "a[1]"
   ]
  },
  {
   "cell_type": "code",
   "execution_count": 29,
   "metadata": {},
   "outputs": [
    {
     "ename": "ValueError",
     "evalue": "invalid literal for int() with base 10: '5.0'",
     "output_type": "error",
     "traceback": [
      "\u001b[1;31m---------------------------------------------------------------------------\u001b[0m",
      "\u001b[1;31mValueError\u001b[0m                                Traceback (most recent call last)",
      "Cell \u001b[1;32mIn[29], line 3\u001b[0m\n\u001b[0;32m      1\u001b[0m i \u001b[38;5;241m=\u001b[39m \u001b[38;5;124m'\u001b[39m\u001b[38;5;124m5.0\u001b[39m\u001b[38;5;124m'\u001b[39m\n\u001b[1;32m----> 3\u001b[0m \u001b[38;5;28mprint\u001b[39m(\u001b[38;5;28;43mint\u001b[39;49m\u001b[43m(\u001b[49m\u001b[43mi\u001b[49m\u001b[43m)\u001b[49m)\n\u001b[0;32m      4\u001b[0m \u001b[38;5;28mprint\u001b[39m(\u001b[38;5;28mfloat\u001b[39m(i))\n\u001b[0;32m      5\u001b[0m \u001b[38;5;28mprint\u001b[39m(\u001b[38;5;28mbool\u001b[39m(i))\n",
      "\u001b[1;31mValueError\u001b[0m: invalid literal for int() with base 10: '5.0'"
     ]
    }
   ],
   "source": [
    "\n",
    "i = '5.0'\n",
    "\n",
    "print(int(i))\n",
    "print(float(i))\n",
    "print(bool(i))\n",
    "print(str(i))"
   ]
  },
  {
   "cell_type": "code",
   "execution_count": 31,
   "metadata": {},
   "outputs": [
    {
     "name": "stdout",
     "output_type": "stream",
     "text": [
      "5\n"
     ]
    }
   ],
   "source": [
    "print(int(float('5.0')))"
   ]
  },
  {
   "cell_type": "code",
   "execution_count": 38,
   "metadata": {},
   "outputs": [
    {
     "name": "stdout",
     "output_type": "stream",
     "text": [
      "False\n",
      "True\n",
      "True\n",
      "True\n",
      "False\n",
      "True\n",
      "True\n",
      "False\n",
      "False\n",
      "False\n"
     ]
    }
   ],
   "source": [
    "print(3>4)\n",
    "print(3<4)\n",
    "print(4==4)\n",
    "print(4!=5)\n",
    "print(4>=5)\n",
    "print(3<=5)\n",
    "\n",
    "# case insenstive\n",
    "print(\"Mahesh\" == \"Mahesh\")\n",
    "print(\"Mahesh\" != \"Mahesh\")\n",
    "\n",
    "# works with same type\n",
    "print(False==\"False\")\n",
    "print(123 == '123')"
   ]
  },
  {
   "cell_type": "code",
   "execution_count": 41,
   "metadata": {},
   "outputs": [
    {
     "name": "stdout",
     "output_type": "stream",
     "text": [
      "False\n",
      "True\n",
      "False\n"
     ]
    }
   ],
   "source": [
    "print(True and False)\n",
    "print(True or False)\n",
    "print(not True)"
   ]
  },
  {
   "cell_type": "code",
   "execution_count": 45,
   "metadata": {},
   "outputs": [
    {
     "name": "stdout",
     "output_type": "stream",
     "text": [
      "Negative\n"
     ]
    }
   ],
   "source": [
    "a = -1\n",
    "if a>0:\n",
    "    if a == 1:\n",
    "        print(\"Equals\")\n",
    "    elif a > 1 and a <= 2:\n",
    "        print(\"Small\")\n",
    "    else:\n",
    "        print(\"Extra Large\")\n",
    "elif a<0:\n",
    "    print(\"Negative\")\n",
    "else:\n",
    "    print(\"Zero\")\n",
    "\n"
   ]
  },
  {
   "cell_type": "code",
   "execution_count": 63,
   "metadata": {},
   "outputs": [
    {
     "name": "stdout",
     "output_type": "stream",
     "text": [
      "         *\n",
      "        **\n",
      "       * *\n",
      "      *  *\n",
      "     *   *\n",
      "    *    *\n",
      "   *     *\n",
      "  *      *\n",
      " *       *\n",
      "**********\n"
     ]
    }
   ],
   "source": [
    "a = 10\n",
    "\n",
    "o = []\n",
    "for i in range(a):\n",
    "    if i==0:\n",
    "        o.append(\"*\" * a)\n",
    "    elif i==a-1:\n",
    "        o.append((\" \"*(a-1)) + \"*\")        \n",
    "    else:\n",
    "        o.append((\" \"*i)+\"*\"+ (\" \"* (a-i-2)) +\"*\")\n",
    "\n",
    "# for i in range(a-1,-1,-1):\n",
    "    # print(o[i])\n",
    "    \n",
    "for i in range(a):\n",
    "    print(o[a-1-i])\n",
    "\n"
   ]
  },
  {
   "cell_type": "code",
   "execution_count": 83,
   "metadata": {},
   "outputs": [
    {
     "name": "stdout",
     "output_type": "stream",
     "text": [
      "ravi\n",
      "Mahesh Challa\n",
      "Mahesh Guptha\n",
      "False\n",
      "True\n",
      "Mahesh challa\n",
      "Mahesh Challa\n",
      "mAHESH cHALLA\n"
     ]
    }
   ],
   "source": [
    "a = \"ravi,.\"\n",
    "\n",
    "print(a.strip(\",.\"))\n",
    "\n",
    "b = \"Mahesh Challa\"\n",
    "\n",
    "print(b)\n",
    "print(b.replace(\"Challa\", \"Guptha\"))\n",
    "\n",
    "print(b.lower().startswith(\"mahesh\".upper()))\n",
    "\n",
    "print(b.endswith(\"Challa\"))\n",
    "\n",
    "print(b.capitalize())\n",
    "\n",
    "print(b.title())\n",
    "\n",
    "# converts lower to upper and upper to lower\n",
    "print(b.swapcase())\n",
    "\n"
   ]
  },
  {
   "cell_type": "code",
   "execution_count": 85,
   "metadata": {},
   "outputs": [
    {
     "name": "stdout",
     "output_type": "stream",
     "text": [
      "3\n"
     ]
    }
   ],
   "source": [
    "a = [1, 2,3,2, 2]\n",
    "\n",
    "print(a.count(2))"
   ]
  },
  {
   "cell_type": "code",
   "execution_count": 86,
   "metadata": {},
   "outputs": [
    {
     "name": "stdout",
     "output_type": "stream",
     "text": [
      "[3]\n",
      "[1, 2, 3]\n",
      "[3, 3]\n"
     ]
    }
   ],
   "source": [
    "def add_item(list_x=[]):\n",
    "    list_x += [3]\n",
    "    print(list_x)\n",
    "\n",
    "add_item()\n",
    "add_item([1,2])\n",
    "add_item()"
   ]
  },
  {
   "cell_type": "code",
   "execution_count": 90,
   "metadata": {},
   "outputs": [
    {
     "data": {
      "text/plain": [
       "{1, 2, 3, 4, 5}"
      ]
     },
     "execution_count": 90,
     "metadata": {},
     "output_type": "execute_result"
    }
   ],
   "source": [
    "a = {1, 2, 3}\n",
    "b = {4, 5}\n",
    "\n",
    "a.union(b)\n",
    "\n",
    "a.intersection(b)\n",
    "\n",
    "a.difference(b)\n",
    "\n",
    "a.symmetric_difference(b)"
   ]
  },
  {
   "cell_type": "code",
   "execution_count": 93,
   "metadata": {},
   "outputs": [
    {
     "data": {
      "text/plain": [
       "([3, 4], 2)"
      ]
     },
     "execution_count": 93,
     "metadata": {},
     "output_type": "execute_result"
    }
   ],
   "source": [
    "a = [1, 4]\n",
    "\n",
    "type((a, 2))\n",
    "(a, 2)\n",
    "a = [3, 4]\n",
    "(a, 2)"
   ]
  },
  {
   "cell_type": "code",
   "execution_count": 94,
   "metadata": {},
   "outputs": [
    {
     "ename": "NameError",
     "evalue": "name 'deal_price' is not defined",
     "output_type": "error",
     "traceback": [
      "\u001b[1;31m---------------------------------------------------------------------------\u001b[0m",
      "\u001b[1;31mNameError\u001b[0m                                 Traceback (most recent call last)",
      "Cell \u001b[1;32mIn[94], line 26\u001b[0m\n\u001b[0;32m     23\u001b[0m         \u001b[38;5;28;01mfor\u001b[39;00m product, quantity \u001b[38;5;129;01min\u001b[39;00m \u001b[38;5;28mself\u001b[39m\u001b[38;5;241m.\u001b[39mitems_in_cart:\n\u001b[0;32m     24\u001b[0m             product\u001b[38;5;241m.\u001b[39mdisplay_product_details()\n\u001b[1;32m---> 26\u001b[0m milk \u001b[38;5;241m=\u001b[39m \u001b[43mGroceryItem\u001b[49m\u001b[43m(\u001b[49m\u001b[38;5;124;43m\"\u001b[39;49m\u001b[38;5;124;43mMilk\u001b[39;49m\u001b[38;5;124;43m\"\u001b[39;49m\u001b[43m)\u001b[49m\n\u001b[0;32m     27\u001b[0m order\u001b[38;5;241m.\u001b[39madd_item(milk, \u001b[38;5;241m2\u001b[39m)\n\u001b[0;32m     28\u001b[0m order\u001b[38;5;241m.\u001b[39mdisplay_order_details()\n",
      "Cell \u001b[1;32mIn[94], line 4\u001b[0m, in \u001b[0;36mProduct.__init__\u001b[1;34m(self, name)\u001b[0m\n\u001b[0;32m      2\u001b[0m \u001b[38;5;28;01mdef\u001b[39;00m \u001b[38;5;21m__init__\u001b[39m(\u001b[38;5;28mself\u001b[39m, name):\n\u001b[0;32m      3\u001b[0m    \u001b[38;5;28mself\u001b[39m\u001b[38;5;241m.\u001b[39mname \u001b[38;5;241m=\u001b[39m name\n\u001b[1;32m----> 4\u001b[0m    \u001b[38;5;28mself\u001b[39m\u001b[38;5;241m.\u001b[39mdeal_price \u001b[38;5;241m=\u001b[39m \u001b[43mdeal_price\u001b[49m\n",
      "\u001b[1;31mNameError\u001b[0m: name 'deal_price' is not defined"
     ]
    }
   ],
   "source": [
    "class Product:\n",
    "    def __init__(self, name):\n",
    "       self.name = name\n",
    "       self.deal_price = deal_price\n",
    "\n",
    "    def display_product_details(self):\n",
    "        print(\"Product: {}\".format(self.name)) # Product: Milk\n",
    "           \n",
    "    def get_deal_price(self):\n",
    "        return self.deal_price\n",
    "\n",
    "class GroceryItem(Product):\n",
    "    pass\n",
    "   \n",
    "class Order:\n",
    "    def __init__(self):\n",
    "         self.items_in_cart = []\n",
    "     \n",
    "    def add_item(self, product, quantity):\n",
    "        self.items_in_cart.append((product, quantity))\n",
    "\n",
    "    def display_order_details(self):\n",
    "        for product, quantity in self.items_in_cart:\n",
    "            product.display_product_details()\n",
    "            \n",
    "milk = GroceryItem(\"Milk\")\n",
    "order.add_item(milk, 2)\n",
    "order.display_order_details()"
   ]
  },
  {
   "cell_type": "code",
   "execution_count": 97,
   "metadata": {},
   "outputs": [
    {
     "data": {
      "text/plain": [
       "(1, 2)"
      ]
     },
     "execution_count": 97,
     "metadata": {},
     "output_type": "execute_result"
    }
   ],
   "source": [
    "a = [1,2]\n",
    "\n",
    "tuple(a)"
   ]
  },
  {
   "cell_type": "code",
   "execution_count": 17,
   "metadata": {},
   "outputs": [
    {
     "name": "stdout",
     "output_type": "stream",
     "text": [
      "T\n",
      "e\n",
      "s\n",
      "t\n"
     ]
    }
   ],
   "source": []
  },
  {
   "cell_type": "code",
   "execution_count": 11,
   "metadata": {},
   "outputs": [
    {
     "name": "stdout",
     "output_type": "stream",
     "text": [
      "('Header', {'ColData': [{'value': 'Income'}, {'value': ''}]})\n",
      "('Rows', {'Row': [{'ColData': [{'value': 'Design income', 'id': '82'}, {'value': '2250.00'}], 'type': 'Data'}, {'ColData': [{'value': 'Discounts given', 'id': '86'}, {'value': '-89.50'}], 'type': 'Data'}, {'Header': {'ColData': [{'value': 'Landscaping Services', 'id': '45'}, {'value': '1477.50'}]}, 'Rows': {'Row': [{'Header': {'ColData': [{'value': 'Job Materials', 'id': '46'}, {'value': ''}]}, 'Rows': {'Row': [{'ColData': [{'value': 'Fountains and Garden Lighting', 'id': '48'}, {'value': '2246.50'}], 'type': 'Data'}, {'ColData': [{'value': 'Plants and Soil', 'id': '49'}, {'value': '2351.97'}], 'type': 'Data'}, {'ColData': [{'value': 'Sprinklers and Drip Systems', 'id': '50'}, {'value': '138.00'}], 'type': 'Data'}]}, 'Summary': {'ColData': [{'value': 'Total Job Materials'}, {'value': '4736.47'}]}, 'type': 'Section'}, {'Header': {'ColData': [{'value': 'Labor', 'id': '51'}, {'value': ''}]}, 'Rows': {'Row': [{'ColData': [{'value': 'Installation', 'id': '52'}, {'value': '250.00'}], 'type': 'Data'}, {'ColData': [{'value': 'Maintenance and Repair', 'id': '53'}, {'value': '50.00'}], 'type': 'Data'}]}, 'Summary': {'ColData': [{'value': 'Total Labor'}, {'value': '300.00'}]}, 'type': 'Section'}]}, 'Summary': {'ColData': [{'value': 'Total Landscaping Services'}, {'value': '6513.97'}]}, 'type': 'Section'}, {'ColData': [{'value': 'Pest Control Services', 'id': '54'}, {'value': '110.00'}], 'type': 'Data'}, {'ColData': [{'value': 'Sales of Product Income', 'id': '79'}, {'value': '912.75'}], 'type': 'Data'}, {'ColData': [{'value': 'Services', 'id': '1'}, {'value': '503.55'}], 'type': 'Data'}]})\n",
      "('Summary', {'ColData': [{'value': 'Total Income'}, {'value': '10200.77'}]})\n",
      "('type', 'Section')\n",
      "('group', 'Income')\n",
      "('Header', {'ColData': [{'value': 'Cost of Goods Sold'}, {'value': ''}]})\n",
      "('Rows', {'Row': [{'ColData': [{'value': 'Cost of Goods Sold', 'id': '80'}, {'value': '405.00'}], 'type': 'Data'}]})\n",
      "('Summary', {'ColData': [{'value': 'Total Cost of Goods Sold'}, {'value': '405.00'}]})\n",
      "('type', 'Section')\n",
      "('group', 'COGS')\n",
      "('Summary', {'ColData': [{'value': 'Gross Profit'}, {'value': '9795.77'}]})\n",
      "('type', 'Section')\n",
      "('group', 'GrossProfit')\n",
      "('Header', {'ColData': [{'value': 'Expenses'}, {'value': ''}]})\n",
      "('Rows', {'Row': [{'ColData': [{'value': 'Advertising', 'id': '7'}, {'value': '736.06'}], 'type': 'Data'}, {'Header': {'ColData': [{'value': 'Automobile', 'id': '55'}, {'value': '113.96'}]}, 'Rows': {'Row': [{'ColData': [{'value': 'Fuel', 'id': '56'}, {'value': '424.41'}], 'type': 'Data'}]}, 'Summary': {'ColData': [{'value': 'Total Automobile'}, {'value': '538.37'}]}, 'type': 'Section'}, {'ColData': [{'value': 'Equipment Rental', 'id': '29'}, {'value': '112.00'}], 'type': 'Data'}, {'ColData': [{'value': 'Insurance', 'id': '11'}, {'value': '241.23'}], 'type': 'Data'}, {'Header': {'ColData': [{'value': 'Job Expenses', 'id': '58'}, {'value': '155.07'}]}, 'Rows': {'Row': [{'Header': {'ColData': [{'value': 'Job Materials', 'id': '63'}, {'value': ''}]}, 'Rows': {'Row': [{'ColData': [{'value': 'Decks and Patios', 'id': '64'}, {'value': '234.04'}], 'type': 'Data'}, {'ColData': [{'value': 'Plants and Soil', 'id': '66'}, {'value': '353.12'}], 'type': 'Data'}, {'ColData': [{'value': 'Sprinklers and Drip Systems', 'id': '67'}, {'value': '215.66'}], 'type': 'Data'}]}, 'Summary': {'ColData': [{'value': 'Total Job Materials'}, {'value': '802.82'}]}, 'type': 'Section'}]}, 'Summary': {'ColData': [{'value': 'Total Job Expenses'}, {'value': '957.89'}]}, 'type': 'Section'}, {'Header': {'ColData': [{'value': 'Legal & Professional Fees', 'id': '12'}, {'value': '75.00'}]}, 'Rows': {'Row': [{'ColData': [{'value': 'Accounting', 'id': '69'}, {'value': '640.00'}], 'type': 'Data'}, {'ColData': [{'value': 'Bookkeeper', 'id': '70'}, {'value': '55.00'}], 'type': 'Data'}, {'ColData': [{'value': 'Lawyer', 'id': '71'}, {'value': '400.00'}], 'type': 'Data'}]}, 'Summary': {'ColData': [{'value': 'Total Legal & Professional Fees'}, {'value': '1170.00'}]}, 'type': 'Section'}, {'Header': {'ColData': [{'value': 'Maintenance and Repair', 'id': '72'}, {'value': '185.00'}]}, 'Rows': {'Row': [{'ColData': [{'value': 'Equipment Repairs', 'id': '75'}, {'value': '755.00'}], 'type': 'Data'}]}, 'Summary': {'ColData': [{'value': 'Total Maintenance and Repair'}, {'value': '940.00'}]}, 'type': 'Section'}, {'ColData': [{'value': 'Meals and Entertainment', 'id': '13'}, {'value': '28.49'}], 'type': 'Data'}, {'ColData': [{'value': 'Office Expenses', 'id': '15'}, {'value': '18.08'}], 'type': 'Data'}, {'ColData': [{'value': 'Rent or Lease', 'id': '17'}, {'value': '900.00'}], 'type': 'Data'}, {'Header': {'ColData': [{'value': 'Utilities', 'id': '24'}, {'value': ''}]}, 'Rows': {'Row': [{'ColData': [{'value': 'Gas and Electric', 'id': '76'}, {'value': '200.53'}], 'type': 'Data'}, {'ColData': [{'value': 'Telephone', 'id': '77'}, {'value': '130.86'}], 'type': 'Data'}]}, 'Summary': {'ColData': [{'value': 'Total Utilities'}, {'value': '331.39'}]}, 'type': 'Section'}]})\n",
      "('Summary', {'ColData': [{'value': 'Total Expenses'}, {'value': '5973.51'}]})\n",
      "('type', 'Section')\n",
      "('group', 'Expenses')\n",
      "('Summary', {'ColData': [{'value': 'Net Operating Income'}, {'value': '3822.26'}]})\n",
      "('type', 'Section')\n",
      "('group', 'NetOperatingIncome')\n",
      "('Header', {'ColData': [{'value': 'Other Expenses'}, {'value': ''}]})\n",
      "('Rows', {'Row': [{'ColData': [{'value': 'Miscellaneous', 'id': '14'}, {'value': '2916.00'}], 'type': 'Data'}]})\n",
      "('Summary', {'ColData': [{'value': 'Total Other Expenses'}, {'value': '2916.00'}]})\n",
      "('type', 'Section')\n",
      "('group', 'OtherExpenses')\n",
      "('Summary', {'ColData': [{'value': 'Net Other Income'}, {'value': '-2916.00'}]})\n",
      "('type', 'Section')\n",
      "('group', 'NetOtherIncome')\n",
      "('Summary', {'ColData': [{'value': 'Net Income'}, {'value': '906.26'}]})\n",
      "('type', 'Section')\n",
      "('group', 'NetIncome')\n"
     ]
    },
    {
     "ename": "",
     "evalue": "",
     "output_type": "error",
     "traceback": [
      "\u001b[1;31mThe Kernel crashed while executing code in the current cell or a previous cell. \n",
      "\u001b[1;31mPlease review the code in the cell(s) to identify a possible cause of the failure. \n",
      "\u001b[1;31mClick <a href='https://aka.ms/vscodeJupyterKernelCrash'>here</a> for more info. \n",
      "\u001b[1;31mView Jupyter <a href='command:jupyter.viewOutput'>log</a> for further details."
     ]
    }
   ],
   "source": [
    "import pandas as pd\n",
    "import json\n",
    "\n",
    "with open(\"test.json\", \"r\") as f:\n",
    "    data = json.load(f)\n",
    "# df = pd.DataFrame(data)\n",
    "\n",
    "for i in data['Rows']['Row']:\n",
    "    # print(i)\n",
    "    for j in i.items():\n",
    "        print(j)\n",
    "        # break\n",
    "    exit()        \n",
    "\n",
    "\n",
    "# df"
   ]
  },
  {
   "cell_type": "code",
   "execution_count": null,
   "metadata": {},
   "outputs": [],
   "source": []
  }
 ],
 "metadata": {
  "kernelspec": {
   "display_name": "Python 3",
   "language": "python",
   "name": "python3"
  },
  "language_info": {
   "codemirror_mode": {
    "name": "ipython",
    "version": 3
   },
   "file_extension": ".py",
   "mimetype": "text/x-python",
   "name": "python",
   "nbconvert_exporter": "python",
   "pygments_lexer": "ipython3",
   "version": "3.11.8"
  }
 },
 "nbformat": 4,
 "nbformat_minor": 2
}
